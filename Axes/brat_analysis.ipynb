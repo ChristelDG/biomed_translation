{
  "nbformat": 4,
  "nbformat_minor": 0,
  "metadata": {
    "colab": {
      "name": "brat_analysis.ipynb",
      "provenance": [],
      "collapsed_sections": []
    },
    "kernelspec": {
      "name": "python3",
      "display_name": "Python 3"
    },
    "language_info": {
      "name": "python"
    }
  },
  "cells": [
    {
      "cell_type": "markdown",
      "source": [
        "# Read brat data in a directory and do basic analysis: total count, count per type..."
      ],
      "metadata": {
        "id": "TAjEr4_1V4ub"
      }
    },
    {
      "cell_type": "code",
      "execution_count": null,
      "metadata": {
        "id": "3NLlfQzpV0Cb"
      },
      "outputs": [],
      "source": [
        "import os\n",
        "import sys\n",
        "import glob\n",
        "\n",
        "import numpy as np\n",
        "import pandas as pd\n",
        "import tqdm"
      ]
    },
    {
      "cell_type": "code",
      "source": [
        "# path to data you want to analysis\n",
        "data_path = '/export/home/cse200093/deep_mlg_normalization/train_brat/'"
      ],
      "metadata": {
        "id": "hq-SqagyV9gC"
      },
      "execution_count": null,
      "outputs": []
    },
    {
      "cell_type": "code",
      "source": [
        "# read data\n",
        "# select all ann files\n",
        "os.chdir(data_path)\n",
        "my_files1 = glob.glob('*.ann')\n",
        "len(my_files)"
      ],
      "metadata": {
        "id": "Sl7dXhdfWD18"
      },
      "execution_count": null,
      "outputs": []
    },
    {
      "cell_type": "code",
      "source": [
        "phrases = []\n",
        "cuis = []\n",
        "types = []\n",
        "dic = {} # necessary when len(phrases) != len(cuis)\n",
        "for file in tqdm.tqdm(my_files):\n",
        "    phrase = None\n",
        "    code = None\n",
        "    type_name = None\n",
        "    f = open(data_path+file, \"r\")\n",
        "    for line in f:\n",
        "        line = line.rstrip('\\n')\n",
        "        if line.startswith('T'):\n",
        "            #type_name = line.split('\\t')[1].split(' ')[0]\n",
        "            phrase = line.split('\\t')[2]\n",
        "            code = line.split('\\t')[0] # necessary when len(phrases) != len(cuis)\n",
        "            dic[file+'.'+phrase+'.'+code] = 'no cui' # necessary when len(phrases) != len(cuis)\n",
        "            #phrases.append(phrase)\n",
        "            #types.append(type_name)\n",
        "        elif line.startswith('#'):\n",
        "            cui = line.split('\\t')[2]\n",
        "            type_name = cui.split(',')[-1][1:].rstrip('\\\"').replace('\\\"', '') # necessary for Mantra\n",
        "            cui = cui.split(',')[0][1:].rstrip('\\\"') # necessary for Mantra\n",
        "            dic[file+'.'+phrase+'.'+code] = (cui,type_name) # necessary when len(phrases) != len(cuis)"
      ],
      "metadata": {
        "id": "1SVMyH9vWGtj"
      },
      "execution_count": null,
      "outputs": []
    },
    {
      "cell_type": "code",
      "source": [
        "# necessary when len(phrases) != len(cuis)\n",
        "print(len(dic))\n",
        "no_cuis = []\n",
        "# phrases_eng = []\n",
        "for key in tqdm.tqdm(dic):\n",
        "    if dic[key] != 'no cui':\n",
        "        phrases.append(key.split('.')[2])\n",
        "        # necessary with translation\n",
        "        # phrases_eng.append(translator.translate(key.split('.')[2]).text)\n",
        "        cuis.append(dic[key][0])\n",
        "        types.append(dic[key][1])\n",
        "    else:\n",
        "        #print(key)\n",
        "        no_cuis.append(key)\n",
        "        \n",
        "print(len(cuis),len(phrases),len(types))"
      ],
      "metadata": {
        "id": "6ZgtrfmpWKqi"
      },
      "execution_count": null,
      "outputs": []
    },
    {
      "cell_type": "code",
      "source": [
        "df = pd.DataFrame({'phrases':phrases, 'cuis':cuis, 'types':types})\n",
        "df = df[(df['types']=='PROC')|(df['types']=='DEVI')|(df['types']=='DISO')|(df['types']=='CHEM')]\n",
        "df"
      ],
      "metadata": {
        "id": "KoE_uHpWWMSq"
      },
      "execution_count": null,
      "outputs": []
    },
    {
      "cell_type": "code",
      "source": [
        "# count data per semantic group\n",
        "df.groupby('types').count()['cuis']"
      ],
      "metadata": {
        "id": "y29cCnGrWPBq"
      },
      "execution_count": null,
      "outputs": []
    }
  ]
}