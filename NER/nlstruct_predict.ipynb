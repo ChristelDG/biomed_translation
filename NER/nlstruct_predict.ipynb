{
  "nbformat": 4,
  "nbformat_minor": 0,
  "metadata": {
    "colab": {
      "name": "nlstruct_predict.ipynb",
      "provenance": [],
      "collapsed_sections": []
    },
    "kernelspec": {
      "name": "python3",
      "display_name": "Python 3"
    },
    "language_info": {
      "name": "python"
    }
  },
  "cells": [
    {
      "cell_type": "markdown",
      "source": [
        "# Use nlstruct model to predict and write output to file"
      ],
      "metadata": {
        "id": "tkTlY0j_CKa1"
      }
    },
    {
      "cell_type": "code",
      "source": [
        "import sys\n",
        "# add nlstruct path for import\n",
        "sys.path.append('../../nlstruct-master/')\n",
        "\n",
        "from nlstruct.recipes import train_ner\n",
        "\n",
        "from nlstruct import load_pretrained\n",
        "from nlstruct.datasets import load_from_brat, export_to_brat\n",
        "import torch"
      ],
      "metadata": {
        "id": "gG2ywBqaCmYU"
      },
      "execution_count": null,
      "outputs": []
    },
    {
      "cell_type": "code",
      "source": [
        "# Data you want the prediction on, should be raw text files : \n",
        "# only need the directory path, not file paths\n",
        "repertoire = '/export/home/cse200093/brat_data/QUAERO_FrenchMed/corpus/train/MEDLINE_txt'\n",
        "\n",
        "# OUTPUT directory (initially emtpy)\n",
        "repertoire_sortie = '/export/home/cse200093/brat_data/MEDLINE1'\n",
        "\n",
        "# model directory\n",
        "model = '/export/home/cse200093/Expe_Pheno/test_pyner/out/TEST_Diso_Drug-model.pt'\n",
        "\n",
        "\n",
        "ner = load_pretrained(model)\n",
        "\n",
        "# ner = load_pretrained(\"out/TEST_sosydiso_base_train_val-model.pt\")    \n",
        "dataset = load_from_brat(repertoire)\n",
        "res = ner.predict(dataset)\n",
        "export_to_brat(res, filename_prefix=repertoire_sortie)"
      ],
      "metadata": {
        "id": "paxaQpBYB2_C"
      },
      "execution_count": null,
      "outputs": []
    }
  ]
}